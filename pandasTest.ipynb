{
 "cells": [
  {
   "cell_type": "code",
   "execution_count": null,
   "metadata": {},
   "outputs": [],
   "source": [
    "import pandas as pd\n",
    "import numpy as np\n",
    "import csv\n",
    "import seaborn as sns\n",
    "import matplotlib.pyplot as plt"
   ]
  },
  {
   "cell_type": "code",
   "execution_count": null,
   "metadata": {},
   "outputs": [],
   "source": [
    "#1\n",
    "df = pd.read_csv(\"wishSalesSummer2020.csv\")\n",
    "display(df)"
   ]
  },
  {
   "cell_type": "code",
   "execution_count": null,
   "metadata": {},
   "outputs": [],
   "source": [
    "#2\n",
    "df.shape"
   ]
  },
  {
   "cell_type": "code",
   "execution_count": null,
   "metadata": {},
   "outputs": [],
   "source": [
    "#3\n",
    "df.info()"
   ]
  },
  {
   "cell_type": "code",
   "execution_count": null,
   "metadata": {},
   "outputs": [],
   "source": [
    "#4\n",
    "del df['product_picture']"
   ]
  },
  {
   "cell_type": "code",
   "execution_count": null,
   "metadata": {},
   "outputs": [],
   "source": [
    "#פקודה מסייעת לפקודה 10\n",
    "df['product_color'] = df['product_color'].str.capitalize()"
   ]
  },
  {
   "cell_type": "code",
   "execution_count": null,
   "metadata": {},
   "outputs": [],
   "source": [
    "#5\n",
    "newTable = df.filter(['title_orig', 'price', 'retail_price', 'units_sold'], axis = 1)\n",
    "display(newTable)"
   ]
  },
  {
   "cell_type": "code",
   "execution_count": null,
   "metadata": {},
   "outputs": [],
   "source": [
    "#6\n",
    "newTable[\"revenue\"] = newTable['retail_price']*newTable['units_sold']\n",
    "display(newTable)"
   ]
  },
  {
   "cell_type": "code",
   "execution_count": null,
   "metadata": {},
   "outputs": [],
   "source": [
    "#7\n",
    "newTable[\"profit\"] = ((newTable['retail_price'] - newTable['price']) * newTable['units_sold'])\n",
    "display(newTable)"
   ]
  },
  {
   "cell_type": "code",
   "execution_count": null,
   "metadata": {},
   "outputs": [],
   "source": [
    "#8\n",
    "newTable.sort_values(by = 'profit', ascending = False)"
   ]
  },
  {
   "cell_type": "code",
   "execution_count": null,
   "metadata": {},
   "outputs": [],
   "source": [
    "#9\n",
    "newTable2 = newTable[newTable['profit']<0]\n",
    "lost = newTable2['profit'].sum()\n",
    "print(\"The company lost for aug 2020 is: \" + str(lost))\n"
   ]
  },
  {
   "cell_type": "code",
   "execution_count": null,
   "metadata": {},
   "outputs": [],
   "source": [
    "#10\n",
    "newTable3 = df.filter(['retail_price', 'units_sold','product_color'], axis = 1)\n",
    "newTable4 = newTable3.groupby(['product_color'])[['units_sold']].sum()\n",
    "newTable4.sort_values(by = 'units_sold', ascending = False)"
   ]
  },
  {
   "cell_type": "code",
   "execution_count": null,
   "metadata": {},
   "outputs": [],
   "source": [
    "#11\n",
    "newTable['merchant_name'] = df['merchant_name']\n",
    "a = newTable.groupby(['merchant_name'])[['profit']].sum()\n",
    "a.sort_values(by = 'profit', ascending = False)"
   ]
  },
  {
   "cell_type": "code",
   "execution_count": null,
   "metadata": {},
   "outputs": [],
   "source": [
    "meanProfit = round(a['profit'].mean())\n",
    "print(\"The mean profit of every merchant is : \" + str(meanProfit))"
   ]
  },
  {
   "cell_type": "code",
   "execution_count": null,
   "metadata": {},
   "outputs": [],
   "source": [
    "#12\n",
    "df.groupby(['product_size'])[['units_sold']].sum()"
   ]
  },
  {
   "cell_type": "code",
   "execution_count": null,
   "metadata": {},
   "outputs": [],
   "source": [
    "df.groupby(['product_size'])[['units_sold']].sum().max()"
   ]
  },
  {
   "cell_type": "code",
   "execution_count": null,
   "metadata": {},
   "outputs": [],
   "source": [
    "#13\n",
    "newTable[\"difference\"] = (newTable['retail_price'] - newTable['price'])\n"
   ]
  },
  {
   "cell_type": "code",
   "execution_count": null,
   "metadata": {},
   "outputs": [],
   "source": [
    "newTable.sort_values(by = 'difference', ascending = False)"
   ]
  },
  {
   "cell_type": "code",
   "execution_count": null,
   "metadata": {},
   "outputs": [],
   "source": [
    "#14\n",
    "merchants = df.filter(['merchant_name', 'merchant_rating_count', 'merchant_rating'], axis = 1)\n",
    "display(merchants)"
   ]
  },
  {
   "cell_type": "code",
   "execution_count": null,
   "metadata": {},
   "outputs": [],
   "source": [
    "#15\n",
    "ratingTable = merchants[ merchants['merchant_rating_count'] > 50]\n",
    "ratingTable.sort_values(by = 'merchant_rating', ascending = False)"
   ]
  },
  {
   "cell_type": "code",
   "execution_count": null,
   "metadata": {},
   "outputs": [],
   "source": [
    "#16\n",
    "merchantMean = ratingTable['merchant_rating'].mean()\n",
    "print(\"The mean merchant_rating of every merchant is : \" + str(merchantMean))"
   ]
  },
  {
   "cell_type": "code",
   "execution_count": null,
   "metadata": {},
   "outputs": [],
   "source": [
    "#17\n",
    "newTable[['units_sold','retail_price']].agg(['min','max','mean','std']).round()"
   ]
  },
  {
   "cell_type": "code",
   "execution_count": null,
   "metadata": {},
   "outputs": [],
   "source": [
    "#18\n",
    "KamaOd = df.filter(['title_orig', 'countries_shipped_to','product_color','product_size'], axis = 1)\n",
    "display(KamaOd[KamaOd.countries_shipped_to == KamaOd.countries_shipped_to.max()])"
   ]
  },
  {
   "cell_type": "code",
   "execution_count": null,
   "metadata": {},
   "outputs": [],
   "source": [
    "#seaborn\n",
    "cols = pd.read_csv(\"wishSalesSummer2020.csv\").columns\n",
    "wish = pd.read_csv(\"wishSalesSummer2020.csv\")"
   ]
  },
  {
   "cell_type": "code",
   "execution_count": null,
   "metadata": {},
   "outputs": [],
   "source": [
    "#19\n",
    "sns.relplot(data=wish, x=\"origin_country\", y=\"units_sold\").set(title='Units sales per country')"
   ]
  },
  {
   "cell_type": "code",
   "execution_count": null,
   "metadata": {},
   "outputs": [],
   "source": [
    "#20\n",
    "sns.relplot(x=\"origin_country\",y=\"product_size\",data=wish).set(title='Size per coutry')"
   ]
  },
  {
   "cell_type": "code",
   "execution_count": null,
   "metadata": {},
   "outputs": [],
   "source": []
  }
 ],
 "metadata": {
  "kernelspec": {
   "display_name": "Python 3",
   "language": "python",
   "name": "python3"
  },
  "language_info": {
   "codemirror_mode": {
    "name": "ipython",
    "version": 3
   },
   "file_extension": ".py",
   "mimetype": "text/x-python",
   "name": "python",
   "nbconvert_exporter": "python",
   "pygments_lexer": "ipython3",
   "version": "3.8.5"
  }
 },
 "nbformat": 4,
 "nbformat_minor": 4
}
